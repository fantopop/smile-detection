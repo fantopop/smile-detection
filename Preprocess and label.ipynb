{
 "cells": [
  {
   "cell_type": "code",
   "execution_count": 2,
   "metadata": {},
   "outputs": [],
   "source": [
    "# Imports\n",
    "%load_ext autoreload\n",
    "%autoreload 1\n",
    "\n",
    "from utils import *\n",
    "from data_preprocess import *\n",
    "\n",
    "%aimport utils\n",
    "%aimport data_preprocess"
   ]
  },
  {
   "cell_type": "markdown",
   "metadata": {},
   "source": [
    "## Detect faces from source images and save them to one folder"
   ]
  },
  {
   "cell_type": "code",
   "execution_count": null,
   "metadata": {},
   "outputs": [],
   "source": [
    "path_out = 'test'\n",
    "path_to_annotations = 'test/annotations.csv'\n",
    "predictor_path = 'dlib_landmarks_predictor/shape_predictor_68_face_landmarks.dat'\n",
    "\n",
    "# process_folder('archive/source/faces_pytorch/images/', path_out, path_to_annotations, predictor_path)\n",
    "# process_folder('example_data/images/', path_out, path_to_annotations, predictor_path)\n",
    "# process_folder('faces_pytorch/images/', path_out, path_to_annotations, predictor_path)b"
   ]
  },
  {
   "cell_type": "markdown",
   "metadata": {},
   "source": [
    "## Manualy label faces, extracted from source images"
   ]
  },
  {
   "cell_type": "code",
   "execution_count": 18,
   "metadata": {},
   "outputs": [
    {
     "data": {
      "application/vnd.jupyter.widget-view+json": {
       "model_id": "73072b105db74c61aedac3c15145eaac",
       "version_major": 2,
       "version_minor": 0
      },
      "text/plain": [
       "HBox(children=(VBox(children=(Button(icon='backward', style=ButtonStyle(), tooltip='Previous image'), Label(va…"
      ]
     },
     "metadata": {},
     "output_type": "display_data"
    },
    {
     "data": {
      "application/vnd.jupyter.widget-view+json": {
       "model_id": "6286eaa57e0f4312a2671de0c4440813",
       "version_major": 2,
       "version_minor": 0
      },
      "text/plain": [
       "Image(value=b'\\xff\\xd8\\xff\\xe0\\x00\\x10JFIF\\x00\\x01\\x01\\x00\\x00\\x01\\x00\\x01\\x00\\x00\\xff\\xdb\\x00C\\x00\\x08\\x06\\x0…"
      ]
     },
     "metadata": {},
     "output_type": "display_data"
    },
    {
     "data": {
      "application/vnd.jupyter.widget-view+json": {
       "model_id": "a04d82bd34e744919c3b8713680f3352",
       "version_major": 2,
       "version_minor": 0
      },
      "text/plain": [
       "Label(value='00004_0.jpg')"
      ]
     },
     "metadata": {},
     "output_type": "display_data"
    }
   ],
   "source": [
    "label_images('data/images/', 'data/annotations.csv')"
   ]
  },
  {
   "cell_type": "markdown",
   "metadata": {},
   "source": [
    "## Explore the dataset"
   ]
  },
  {
   "cell_type": "code",
   "execution_count": 19,
   "metadata": {},
   "outputs": [],
   "source": [
    "imgs = ImageList('data/images/', 'data/annotations.csv', default_type='numpy')"
   ]
  },
  {
   "cell_type": "code",
   "execution_count": 20,
   "metadata": {},
   "outputs": [
    {
     "data": {
      "application/vnd.jupyter.widget-view+json": {
       "model_id": "222d91734f094e63a92a67ec86bcd9cd",
       "version_major": 2,
       "version_minor": 0
      },
      "text/plain": [
       "interactive(children=(Dropdown(description='image', options=('00004_0.jpg', '00008_0.jpg', '00009_0.jpg', '000…"
      ]
     },
     "metadata": {},
     "output_type": "display_data"
    }
   ],
   "source": [
    "imgs.viewer()"
   ]
  },
  {
   "cell_type": "markdown",
   "metadata": {},
   "source": [
    "## Distribute images to class folders, according to labels"
   ]
  },
  {
   "cell_type": "code",
   "execution_count": 8,
   "metadata": {},
   "outputs": [
    {
     "name": "stdout",
     "output_type": "stream",
     "text": [
      "Class statistics:\n",
      "calm_closed: 473 images\n",
      "calm_open: 199 images\n",
      "smile_closed: 36 images\n",
      "smile_open: 157 images\n"
     ]
    }
   ],
   "source": [
    "# Categorical classes:\n",
    "distribute_by_class('./data/images/', './data/datasets/categorical/', './data/annotations.csv', mode='categorical')"
   ]
  },
  {
   "cell_type": "code",
   "execution_count": 6,
   "metadata": {},
   "outputs": [
    {
     "name": "stdout",
     "output_type": "stream",
     "text": [
      "Class statistics:\n",
      "smile:\n",
      "\tcalm: 672 images\n",
      "\tsmile: 193 images\n",
      "mouth:\n",
      "\tclosed: 509 images\n",
      "\topen: 356 images\n"
     ]
    }
   ],
   "source": [
    "# Binary classes for 2 problems\n",
    "distribute_by_class('./data/images/', './data/datasets/binary', './data/annotations.csv', mode='binary')"
   ]
  }
 ],
 "metadata": {
  "kernelspec": {
   "display_name": "Python 3",
   "language": "python",
   "name": "python3"
  },
  "language_info": {
   "codemirror_mode": {
    "name": "ipython",
    "version": 3
   },
   "file_extension": ".py",
   "mimetype": "text/x-python",
   "name": "python",
   "nbconvert_exporter": "python",
   "pygments_lexer": "ipython3",
   "version": "3.6.4"
  }
 },
 "nbformat": 4,
 "nbformat_minor": 2
}
