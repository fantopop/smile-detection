{
 "cells": [
  {
   "cell_type": "code",
   "execution_count": 1,
   "metadata": {},
   "outputs": [],
   "source": [
    "# Imports\n",
    "%load_ext autoreload\n",
    "%autoreload 1\n",
    "\n",
    "from utils import *\n",
    "from data_preprocess import *\n",
    "\n",
    "%aimport utils\n",
    "%aimport data_preprocess"
   ]
  },
  {
   "cell_type": "markdown",
   "metadata": {},
   "source": [
    "## Detect faces from source images and save them to one folder"
   ]
  },
  {
   "cell_type": "code",
   "execution_count": 2,
   "metadata": {},
   "outputs": [],
   "source": [
    "path_out = 'test'\n",
    "path_to_annotations = 'test/annotations.csv'\n",
    "predictor_path = 'dlib_landmarks_predictor/shape_predictor_68_face_landmarks.dat'\n",
    "\n",
    "# process_folder('archive/source/faces_pytorch/images/', path_out, path_to_annotations, predictor_path)\n",
    "# process_folder('example_data/images/', path_out, path_to_annotations, predictor_path)\n",
    "# process_folder('faces_pytorch/images/', path_out, path_to_annotations, predictor_path)b"
   ]
  },
  {
   "cell_type": "markdown",
   "metadata": {},
   "source": [
    "## Manualy label faces, extracted from source images"
   ]
  },
  {
   "cell_type": "code",
   "execution_count": 3,
   "metadata": {},
   "outputs": [
    {
     "data": {
      "application/vnd.jupyter.widget-view+json": {
       "model_id": "0ba6a008545d422bb700e14ccf53d66c",
       "version_major": 2,
       "version_minor": 0
      },
      "text/plain": [
       "HBox(children=(VBox(children=(Button(icon='backward', style=ButtonStyle(), tooltip='Previous image'), Label(va…"
      ]
     },
     "metadata": {},
     "output_type": "display_data"
    },
    {
     "data": {
      "application/vnd.jupyter.widget-view+json": {
       "model_id": "c980713ddaa044b59deedb825adaed87",
       "version_major": 2,
       "version_minor": 0
      },
      "text/plain": [
       "Image(value=b'\\xff\\xd8\\xff\\xe0\\x00\\x10JFIF\\x00\\x01\\x01\\x00\\x00\\x01\\x00\\x01\\x00\\x00\\xff\\xdb\\x00C\\x00\\x08\\x06\\x0…"
      ]
     },
     "metadata": {},
     "output_type": "display_data"
    },
    {
     "data": {
      "application/vnd.jupyter.widget-view+json": {
       "model_id": "0c4c81e5ef814d02a0b87cff157caa30",
       "version_major": 2,
       "version_minor": 0
      },
      "text/plain": [
       "Label(value='00004_0.jpg')"
      ]
     },
     "metadata": {},
     "output_type": "display_data"
    }
   ],
   "source": [
    "label_images('data/images/', 'data/annotations.csv')"
   ]
  },
  {
   "cell_type": "markdown",
   "metadata": {},
   "source": [
    "## Explore the dataset"
   ]
  },
  {
   "cell_type": "code",
   "execution_count": 4,
   "metadata": {},
   "outputs": [],
   "source": [
    "imgs = ImageList('data/images/', 'data/annotations.csv', default_type='numpy')"
   ]
  },
  {
   "cell_type": "code",
   "execution_count": 5,
   "metadata": {},
   "outputs": [
    {
     "data": {
      "application/vnd.jupyter.widget-view+json": {
       "model_id": "1388c2656cac42e9a24117b3b698101d",
       "version_major": 2,
       "version_minor": 0
      },
      "text/plain": [
       "interactive(children=(Dropdown(description='image', options=('00004_0.jpg', '00008_0.jpg', '00009_0.jpg', '000…"
      ]
     },
     "metadata": {},
     "output_type": "display_data"
    }
   ],
   "source": [
    "imgs.viewer()"
   ]
  },
  {
   "cell_type": "markdown",
   "metadata": {},
   "source": [
    "## Distribute images to class folders, according to labels"
   ]
  },
  {
   "cell_type": "code",
   "execution_count": 8,
   "metadata": {},
   "outputs": [
    {
     "name": "stdout",
     "output_type": "stream",
     "text": [
      "Class statistics:\n",
      "calm_closed: 473 images\n",
      "calm_open: 199 images\n",
      "smile_closed: 36 images\n",
      "smile_open: 157 images\n"
     ]
    }
   ],
   "source": [
    "# Categorical classes:\n",
    "distribute_by_class('./data/images/', './data/datasets/categorical/', './data/annotations.csv', mode='categorical')"
   ]
  },
  {
   "cell_type": "code",
   "execution_count": 6,
   "metadata": {},
   "outputs": [
    {
     "name": "stdout",
     "output_type": "stream",
     "text": [
      "Class statistics:\n",
      "smile:\n",
      "\tcalm: 672 images\n",
      "\tsmile: 193 images\n",
      "mouth:\n",
      "\tclosed: 509 images\n",
      "\topen: 356 images\n"
     ]
    }
   ],
   "source": [
    "# Binary classes for 2 problems\n",
    "distribute_by_class('./data/images/', './data/datasets/binary', './data/annotations.csv', mode='binary')"
   ]
  }
 ],
 "metadata": {
  "kernelspec": {
   "display_name": "Python 3",
   "language": "python",
   "name": "python3"
  },
  "language_info": {
   "codemirror_mode": {
    "name": "ipython",
    "version": 3
   },
   "file_extension": ".py",
   "mimetype": "text/x-python",
   "name": "python",
   "nbconvert_exporter": "python",
   "pygments_lexer": "ipython3",
   "version": "3.6.4"
  }
 },
 "nbformat": 4,
 "nbformat_minor": 2
}
